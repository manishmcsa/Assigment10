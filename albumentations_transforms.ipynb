{
  "nbformat": 4,
  "nbformat_minor": 0,
  "metadata": {
    "colab": {
      "name": "albumentations_transforms.ipynb",
      "provenance": [],
      "collapsed_sections": [],
      "authorship_tag": "ABX9TyO/o7knHlvT9vDPmZS1kfS1",
      "include_colab_link": true
    },
    "kernelspec": {
      "name": "python3",
      "display_name": "Python 3"
    }
  },
  "cells": [
    {
      "cell_type": "markdown",
      "metadata": {
        "id": "view-in-github",
        "colab_type": "text"
      },
      "source": [
        "<a href=\"https://colab.research.google.com/github/manishmcsa/Assigment10/blob/main/albumentations_transforms.ipynb\" target=\"_parent\"><img src=\"https://colab.research.google.com/assets/colab-badge.svg\" alt=\"Open In Colab\"/></a>"
      ]
    },
    {
      "cell_type": "code",
      "metadata": {
        "id": "NJmAdy-cgp57"
      },
      "source": [
        "from albumentations import (\r\n",
        "\tCompose,\r\n",
        "    HorizontalFlip,\r\n",
        "    Normalize,\r\n",
        "    Rotate,\r\n",
        "    HueSaturationValue\r\n",
        ")\r\n",
        "from albumentations.pytorch import ToTensor\r\n",
        "import numpy as np\t"
      ],
      "execution_count": null,
      "outputs": []
    },
    {
      "cell_type": "code",
      "metadata": {
        "id": "ZQTch58Agwzg"
      },
      "source": [
        "def albumentations_transforms(p=1.0, is_train=False):\r\n",
        "\t# Mean and standard deviation of train dataset\r\n",
        "\tmean = np.array([0.4914, 0.4822, 0.4465])\r\n",
        "\tstd = np.array([0.2023, 0.1994, 0.2010])\r\n",
        "\ttransforms_list = []\r\n",
        "\t# Use data aug only for train data\r\n",
        "\tif is_train:\r\n",
        "\t\ttransforms_list.extend([\r\n",
        "\t\t\tHueSaturationValue(p=0.25),\r\n",
        "\t\t\tHorizontalFlip(p=0.5),\r\n",
        "\t\t\tRotate(limit=15),\r\n",
        "\t\t\t\r\n",
        "\r\n",
        "\t\t])\r\n",
        "\ttransforms_list.extend([\r\n",
        "\t\tNormalize(\r\n",
        "\t\t\tmean=mean,\r\n",
        "\t\t\tstd=std,\r\n",
        "\t\t\tmax_pixel_value=255.0,\r\n",
        "\t\t\tp=1.0\r\n",
        "\t\t),\r\n",
        "\t\tToTensor()\r\n",
        "\t])\r\n",
        "\ttransforms = Compose(transforms_list, p=p)\r\n",
        "\treturn lambda img:transforms(image=np.array(img))[\"image\"]"
      ],
      "execution_count": null,
      "outputs": []
    }
  ]
}