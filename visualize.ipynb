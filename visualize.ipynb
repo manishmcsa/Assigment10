{
  "nbformat": 4,
  "nbformat_minor": 0,
  "metadata": {
    "colab": {
      "name": "visualize.ipynb",
      "provenance": [],
      "collapsed_sections": [],
      "authorship_tag": "ABX9TyPvggHgDExRY0Uy7emZ2OxK",
      "include_colab_link": true
    },
    "kernelspec": {
      "name": "python3",
      "display_name": "Python 3"
    }
  },
  "cells": [
    {
      "cell_type": "markdown",
      "metadata": {
        "id": "view-in-github",
        "colab_type": "text"
      },
      "source": [
        "<a href=\"https://colab.research.google.com/github/manishmcsa/Assigment10/blob/main/visualize.ipynb\" target=\"_parent\"><img src=\"https://colab.research.google.com/assets/colab-badge.svg\" alt=\"Open In Colab\"/></a>"
      ]
    },
    {
      "cell_type": "code",
      "metadata": {
        "colab": {
          "base_uri": "https://localhost:8080/"
        },
        "id": "cIq3SuL23thf",
        "outputId": "39b93a56-0d99-4953-ac5a-076ee448648a"
      },
      "source": [
        "from google.colab import drive\r\n",
        "drive.mount('/content/drive')"
      ],
      "execution_count": null,
      "outputs": [
        {
          "output_type": "stream",
          "text": [
            "Drive already mounted at /content/drive; to attempt to forcibly remount, call drive.mount(\"/content/drive\", force_remount=True).\n"
          ],
          "name": "stdout"
        }
      ]
    },
    {
      "cell_type": "code",
      "metadata": {
        "colab": {
          "base_uri": "https://localhost:8080/"
        },
        "id": "OnRFt3QF3vuM",
        "outputId": "e2e852fe-7a0e-4148-da6d-76ab4ae9b28b"
      },
      "source": [
        "%cd \"/content/drive/MyDrive/Assignment9\""
      ],
      "execution_count": null,
      "outputs": [
        {
          "output_type": "stream",
          "text": [
            "/content/drive/MyDrive/Assignment9\n"
          ],
          "name": "stdout"
        }
      ]
    },
    {
      "cell_type": "code",
      "metadata": {
        "id": "Oe1wiwLk32MD"
      },
      "source": [
        "import torch\r\n",
        "import cv2\r\n",
        "import matplotlib.pyplot as plt\r\n",
        "import numpy as np\r\n",
        "\r\n",
        "from gradcam import GradCam\r\n",
        "from utils import denormalize"
      ],
      "execution_count": null,
      "outputs": []
    },
    {
      "cell_type": "code",
      "metadata": {
        "id": "s8DvsT_x6gf1"
      },
      "source": [
        "class VisualizeCam(object):\r\n",
        "\r\n",
        "\tdef __init__(self, model, classes, target_layers):\r\n",
        "\t\tsuper(VisualizeCam, self).__init__()\r\n",
        "\t\tself.model = model\r\n",
        "\t\tself.classes = classes\r\n",
        "\t\tself.target_layers = target_layers\r\n",
        "\t\tself.device = next(model.parameters()).device\r\n",
        "\r\n",
        "\t\tself.gcam = GradCam(model, target_layers, len(classes))\r\n",
        "\t\t\r\n",
        "\tdef visualize_cam(self, mask, img):\r\n",
        "\t    heatmap = (255 * mask.squeeze()).type(torch.uint8).cpu().numpy()\r\n",
        "\t    heatmap = cv2.applyColorMap(heatmap, cv2.COLORMAP_JET)\r\n",
        "\t    heatmap = torch.from_numpy(heatmap).permute(2, 0, 1).float().div(255)\r\n",
        "\t    b, g, r = heatmap.split(1)\r\n",
        "\t    heatmap = torch.cat([r, g, b])\r\n",
        "\t    \r\n",
        "\t    result = heatmap+img.cpu()\r\n",
        "\t    result = result.div(result.max()).squeeze()\r\n",
        "\t    return heatmap, result\r\n",
        "\r\n",
        "\tdef plot_heatmaps(self, img_data, target_class, img_name):\r\n",
        "\t\tfig, axs = plt.subplots(nrows=2, ncols=5, figsize=(10, 4),\r\n",
        "\t\t\tsubplot_kw={'xticks': [], 'yticks': []})\r\n",
        "\t\tfig.suptitle('GradCam at different conv layers for the class: %s' % \r\n",
        "\t\t\ttarget_class, fontsize=13, weight='medium', y=1.05)\r\n",
        "\r\n",
        "\t\tfor ax, data in zip(axs.flat, img_data):\r\n",
        "\t\t\timg = data[\"img\"]\r\n",
        "\t\t\tnpimg = img.cpu().numpy()\r\n",
        "\t\t\tax.imshow(np.transpose(npimg, (1, 2, 0)))\r\n",
        "\t\t\tax.set_title(\"%s\" % (data[\"label\"]))\r\n",
        "\r\n",
        "\t\tplt.savefig(img_name)\r\n",
        "\r\n",
        "\r\n",
        "\tdef __call__(self, images, target_layers, target_inds=None, metric=\"\"):\r\n",
        "\t\tmasks_map, pred = self.gcam(images, target_layers, target_inds)\r\n",
        "\t\tfor i in range(min(len(images),5)):\r\n",
        "\t\t\timg = images[i]\r\n",
        "\t\t\tresults_data = [{\r\n",
        "\t\t\t\t\"img\": denormalize(img),\r\n",
        "\t\t\t\t\"label\": \"Result:\"\r\n",
        "\t\t\t}]\r\n",
        "\t\t\theatmaps_data = [{\r\n",
        "\t\t\t\t\"img\": denormalize(img),\r\n",
        "\t\t\t\t\"label\": \"Heatmap:\"\r\n",
        "\t\t\t}]\r\n",
        "\t\t\tfor layer in target_layers:\r\n",
        "\t\t\t\tmask = masks_map[layer][i]\r\n",
        "\t\t\t\theatmap, result = self.visualize_cam(mask, img)\r\n",
        "\t\t\t\tresults_data.append({\r\n",
        "\t\t\t\t\t\"img\": result,\r\n",
        "\t\t\t\t\t\"label\": layer\r\n",
        "\t\t\t\t})\r\n",
        "\t\t\t\theatmaps_data.append({\r\n",
        "\t\t\t\t\t\"img\": heatmap,\r\n",
        "\t\t\t\t\t\"label\": layer\r\n",
        "\t\t\t\t})\r\n",
        "\t\t\tpred_class = self.classes[pred[i][0]]\r\n",
        "\t\t\tfname = \"gradcam_%s_%s_%s.png\" % (metric, i, pred_class)\r\n",
        "\t\t\tself.plot_heatmaps(results_data+heatmaps_data, pred_class, fname)"
      ],
      "execution_count": null,
      "outputs": []
    }
  ]
}