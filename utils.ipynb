{
  "nbformat": 4,
  "nbformat_minor": 0,
  "metadata": {
    "colab": {
      "name": "utils.ipynb",
      "provenance": [],
      "collapsed_sections": [],
      "authorship_tag": "ABX9TyM4pX3ZsxW/Gg4piGun5lbS",
      "include_colab_link": true
    },
    "kernelspec": {
      "name": "python3",
      "display_name": "Python 3"
    }
  },
  "cells": [
    {
      "cell_type": "markdown",
      "metadata": {
        "id": "view-in-github",
        "colab_type": "text"
      },
      "source": [
        "<a href=\"https://colab.research.google.com/github/manishmcsa/Assigment10/blob/main/utils.ipynb\" target=\"_parent\"><img src=\"https://colab.research.google.com/assets/colab-badge.svg\" alt=\"Open In Colab\"/></a>"
      ]
    },
    {
      "cell_type": "code",
      "metadata": {
        "id": "nMHwCFrczHJI"
      },
      "source": [
        "import torch\r\n",
        "from torchsummary import summary\r\n",
        "import matplotlib.pyplot as plt\r\n",
        "import numpy as np"
      ],
      "execution_count": null,
      "outputs": []
    },
    {
      "cell_type": "code",
      "metadata": {
        "id": "MQhKzqtIzu5I"
      },
      "source": [
        "def has_cuda():\r\n",
        "\treturn torch.cuda.is_available()\r\n",
        "\r\n",
        "def which_device():\r\n",
        "\treturn torch.device(\"cuda\" if has_cuda() else \"cpu\")\r\n",
        "\r\n",
        "def init_seed(args):\r\n",
        "\ttorch.manual_seed(args.seed)\r\n",
        "\r\n",
        "\tif has_cuda():\r\n",
        "\t    print(\"CUDA Available\")\r\n",
        "\t    torch.cuda.manual_seed(args.seed)\r\n",
        "\r\n",
        "def show_model_summary(model, device, input_size):\r\n",
        "    print(summary(model, input_size=input_size))\r\n",
        "\r\n",
        "def imshow(img):\r\n",
        "    img = img / 2 + 0.5     # unnormalize\r\n",
        "    npimg = img.numpy()\r\n",
        "    plt.imshow(np.transpose(npimg, (1, 2, 0)))\r\n",
        "\r\n",
        "def normalize(tensor, mean=[0.4914, 0.4822, 0.4465],\r\n",
        "\t\t\t\t\t\tstd=[0.2023, 0.1994, 0.2010]):\r\n",
        "\tsingle_img = False\r\n",
        "\tif tensor.ndimension() == 3:\r\n",
        "\t\tsingle_img = True\r\n",
        "\t\ttensor = tensor[None,:,:,:]\r\n",
        "\r\n",
        "\tif not tensor.ndimension() == 4:\r\n",
        "\t    raise TypeError('tensor should be 4D')\r\n",
        "\r\n",
        "\tmean = torch.FloatTensor(mean).view(1, 3, 1, 1).expand_as(tensor).to(tensor.device)\r\n",
        "\tstd = torch.FloatTensor(std).view(1, 3, 1, 1).expand_as(tensor).to(tensor.device)\r\n",
        "\tret = tensor.sub(mean).div(std)\r\n",
        "\treturn ret[0] if single_img else ret\r\n",
        "\r\n",
        "def denormalize(tensor, mean=[0.4914, 0.4822, 0.4465],\r\n",
        "\t\t\t\t\t\tstd=[0.2023, 0.1994, 0.2010]):\r\n",
        "\tsingle_img = False\r\n",
        "\tif tensor.ndimension() == 3:\r\n",
        "\t\tsingle_img = True\r\n",
        "\t\ttensor = tensor[None,:,:,:]\r\n",
        "\r\n",
        "\tif not tensor.ndimension() == 4:\r\n",
        "\t    raise TypeError('tensor should be 4D')\r\n",
        "\r\n",
        "\tmean = torch.FloatTensor(mean).view(1, 3, 1, 1).expand_as(tensor).to(tensor.device)\r\n",
        "\tstd = torch.FloatTensor(std).view(1, 3, 1, 1).expand_as(tensor).to(tensor.device)\r\n",
        "\tret = tensor.mul(std).add(mean)\r\n",
        "\treturn ret[0] if single_img else ret"
      ],
      "execution_count": null,
      "outputs": []
    }
  ]
}