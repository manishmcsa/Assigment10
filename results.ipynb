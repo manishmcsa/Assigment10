{
  "nbformat": 4,
  "nbformat_minor": 0,
  "metadata": {
    "colab": {
      "name": "results.ipynb",
      "provenance": [],
      "collapsed_sections": [],
      "authorship_tag": "ABX9TyPKkKOuJhSd2EKm4a9xgADt",
      "include_colab_link": true
    },
    "kernelspec": {
      "name": "python3",
      "display_name": "Python 3"
    }
  },
  "cells": [
    {
      "cell_type": "markdown",
      "metadata": {
        "id": "view-in-github",
        "colab_type": "text"
      },
      "source": [
        "<a href=\"https://colab.research.google.com/github/manishmcsa/Assigment10/blob/main/results.ipynb\" target=\"_parent\"><img src=\"https://colab.research.google.com/assets/colab-badge.svg\" alt=\"Open In Colab\"/></a>"
      ]
    },
    {
      "cell_type": "code",
      "metadata": {
        "colab": {
          "base_uri": "https://localhost:8080/"
        },
        "id": "XjrTjpJm1Q74",
        "outputId": "5365796f-2332-48e0-eb68-baa686dc37b6"
      },
      "source": [
        "import matplotlib.pyplot as plt\r\n",
        "import numpy as np"
      ],
      "execution_count": null,
      "outputs": [
        {
          "output_type": "stream",
          "text": [
            "Requirement already satisfied: matplotlib in /usr/local/lib/python3.6/dist-packages (3.2.2)\n",
            "Requirement already satisfied: cycler>=0.10 in /usr/local/lib/python3.6/dist-packages (from matplotlib) (0.10.0)\n",
            "Requirement already satisfied: python-dateutil>=2.1 in /usr/local/lib/python3.6/dist-packages (from matplotlib) (2.8.1)\n",
            "Requirement already satisfied: numpy>=1.11 in /usr/local/lib/python3.6/dist-packages (from matplotlib) (1.19.5)\n",
            "Requirement already satisfied: pyparsing!=2.0.4,!=2.1.2,!=2.1.6,>=2.0.1 in /usr/local/lib/python3.6/dist-packages (from matplotlib) (2.4.7)\n",
            "Requirement already satisfied: kiwisolver>=1.0.1 in /usr/local/lib/python3.6/dist-packages (from matplotlib) (1.3.1)\n",
            "Requirement already satisfied: six in /usr/local/lib/python3.6/dist-packages (from cycler>=0.10->matplotlib) (1.15.0)\n"
          ],
          "name": "stdout"
        }
      ]
    },
    {
      "cell_type": "code",
      "metadata": {
        "id": "C3cMrJgK1Vta"
      },
      "source": [
        "def plot_misclassified_images(img_data, classes, img_name):\r\n",
        "  figure = plt.figure(figsize=(10, 10))\r\n",
        "  \r\n",
        "  num_of_images = len(img_data)\r\n",
        "  for index in range(1, num_of_images + 1):\r\n",
        "      img = img_data[index-1][\"img\"] / 2 + 0.5     # unnormalize\r\n",
        "      plt.subplot(5, 5, index)\r\n",
        "      plt.axis('off')\r\n",
        "      plt.imshow(np.transpose(img, (1, 2, 0)))\r\n",
        "      plt.title(\"Predicted: %s\\nActual: %s\" % (classes[img_data[index-1][\"pred\"]], classes[img_data[index-1][\"target\"]]))\r\n",
        "  \r\n",
        "  plt.tight_layout()\r\n",
        "  plt.savefig(img_name)"
      ],
      "execution_count": null,
      "outputs": []
    },
    {
      "cell_type": "code",
      "metadata": {
        "id": "Rb243B2K1cjk"
      },
      "source": [
        "def plot_graph(data, metric):\r\n",
        "    fig = plt.figure(figsize=(7, 7))\r\n",
        "    \r\n",
        "    plt.title(f'Validation %s' % (metric))\r\n",
        "    plt.xlabel('Epoch')\r\n",
        "    plt.ylabel(metric)\r\n",
        "    plt.plot(data)\r\n",
        "    plt.show()\r\n",
        "    \r\n",
        "    fig.savefig(f'val_%s_change.png' % (metric.lower()))"
      ],
      "execution_count": null,
      "outputs": []
    }
  ]
}