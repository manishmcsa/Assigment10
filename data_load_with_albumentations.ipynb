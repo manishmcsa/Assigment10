{
  "nbformat": 4,
  "nbformat_minor": 0,
  "metadata": {
    "colab": {
      "name": "data_load_with_albumentations.ipynb",
      "provenance": [],
      "collapsed_sections": [],
      "authorship_tag": "ABX9TyM1bjKCkvIeSxfxj5UScfzH",
      "include_colab_link": true
    },
    "kernelspec": {
      "name": "python3",
      "display_name": "Python 3"
    }
  },
  "cells": [
    {
      "cell_type": "markdown",
      "metadata": {
        "id": "view-in-github",
        "colab_type": "text"
      },
      "source": [
        "<a href=\"https://colab.research.google.com/github/manishmcsa/Assigment10/blob/main/data_load_with_albumentations.ipynb\" target=\"_parent\"><img src=\"https://colab.research.google.com/assets/colab-badge.svg\" alt=\"Open In Colab\"/></a>"
      ]
    },
    {
      "cell_type": "code",
      "metadata": {
        "colab": {
          "base_uri": "https://localhost:8080/"
        },
        "id": "lnRAXu8bED8s",
        "outputId": "60e217a1-9e56-4643-ee90-5cc392e0605d"
      },
      "source": [
        "from google.colab import drive\r\n",
        "drive.mount('/content/drive')"
      ],
      "execution_count": null,
      "outputs": [
        {
          "output_type": "stream",
          "text": [
            "Mounted at /content/drive\n"
          ],
          "name": "stdout"
        }
      ]
    },
    {
      "cell_type": "code",
      "metadata": {
        "colab": {
          "base_uri": "https://localhost:8080/"
        },
        "id": "fCSI2Ly0Eagv",
        "outputId": "4c188f18-7e7a-41bc-bdd6-2a8fed037010"
      },
      "source": [
        "%cd \"/content/drive/MyDrive/ImageAugmentation\""
      ],
      "execution_count": null,
      "outputs": [
        {
          "output_type": "stream",
          "text": [
            "/content/drive/MyDrive/ImageAugmentation\n"
          ],
          "name": "stdout"
        }
      ]
    },
    {
      "cell_type": "code",
      "metadata": {
        "id": "RYzLQHI_EKHZ"
      },
      "source": [
        "import torch\r\n",
        "import torchvision\r\n",
        "import torchvision.transforms as transforms\r\n",
        "\r\n",
        "import pprint\r\n",
        "\r\n",
        "from albumentations_transforms import albumentations_transforms\r\n",
        "from utils import has_cuda"
      ],
      "execution_count": null,
      "outputs": []
    },
    {
      "cell_type": "code",
      "metadata": {
        "id": "HKfb5fLkHvci"
      },
      "source": [
        "class DataEngine(object):\r\n",
        "\r\n",
        "\tclasses = ('plane', 'car', 'bird', 'cat', 'deer', 'dog',\r\n",
        "\t\t\t'frog', 'horse', 'ship', 'truck')\r\n",
        "\r\n",
        "\tdef __init__(self, args):\r\n",
        "\t\tsuper(DataEngine, self).__init__()\r\n",
        "\t\tself.batch_size_cuda = args.batch_size_cuda\r\n",
        "\t\tself.batch_size_cpu = args.batch_size_cpu\r\n",
        "\t\tself.num_workers = args.num_workers\r\n",
        "\t\tself.load()\r\n",
        "\r\n",
        "\tdef _transforms(self):\r\n",
        "\t\t# Data Transformations\r\n",
        "\t\ttrain_transform = albumentations_transforms(p=1.0, is_train=True)\r\n",
        "\t\ttest_transform = albumentations_transforms(p=1.0, is_train=False)\r\n",
        "\t\treturn train_transform, test_transform\r\n",
        "\r\n",
        "\tdef _dataset(self):\r\n",
        "\t\t# Get data transforms\r\n",
        "\t\ttrain_transform, test_transform = self._transforms()\r\n",
        "\r\n",
        "\t\t# Dataset and Creating Train/Test Split\r\n",
        "\t\ttrain_set = torchvision.datasets.CIFAR10(root='./data', train=True,\r\n",
        "\t\t                                        download=True, transform=train_transform)\r\n",
        "\t\ttest_set = torchvision.datasets.CIFAR10(root='./data', train=False,\r\n",
        "\t\t                                       download=True, transform=test_transform)\r\n",
        "\t\treturn train_set, test_set\r\n",
        "\r\n",
        "\tdef load(self):\r\n",
        "\t\t# Get Train and Test Data\r\n",
        "\t\ttrain_set, test_set = self._dataset()\r\n",
        "\r\n",
        "\t\t# Dataloader Arguments & Test/Train Dataloaders\r\n",
        "\t\tdataloader_args = dict(\r\n",
        "\t\t\tshuffle= True,\r\n",
        "\t\t\tbatch_size= self.batch_size_cpu)\r\n",
        "\t\tif has_cuda():\r\n",
        "\t\t\tdataloader_args.update(\r\n",
        "\t\t\t\tbatch_size= self.batch_size_cuda,\r\n",
        "\t\t\t\tnum_workers= self.num_workers,\r\n",
        "\t\t\t\tpin_memory= True)\r\n",
        "\r\n",
        "\t\tself.train_loader = torch.utils.data.DataLoader(train_set, **dataloader_args)\r\n",
        "\t\tself.test_loader = torch.utils.data.DataLoader(test_set, **dataloader_args)"
      ],
      "execution_count": null,
      "outputs": []
    }
  ]
}